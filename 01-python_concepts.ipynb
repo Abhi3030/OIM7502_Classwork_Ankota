{
 "cells": [
  {
   "cell_type": "markdown",
   "id": "9383bafa",
   "metadata": {},
   "source": [
    "### Python Programming Concepts"
   ]
  },
  {
   "cell_type": "markdown",
   "id": "17df7d6e",
   "metadata": {},
   "source": [
    "#### 1. Create a variable to store the value 500 for sales"
   ]
  },
  {
   "cell_type": "code",
   "execution_count": 1,
   "id": "a5f43c2f",
   "metadata": {},
   "outputs": [
    {
     "name": "stdout",
     "output_type": "stream",
     "text": [
      "Sales: 500\n"
     ]
    }
   ],
   "source": [
    "sales = 500\n",
    "print ('Sales:',sales)"
   ]
  },
  {
   "cell_type": "markdown",
   "id": "6dc8b9ea",
   "metadata": {},
   "source": [
    "#### 2. Create a variable to store several values:  \n",
    "* sales: 500, 475, 625\n",
    "* integers 1 - 9 "
   ]
  },
  {
   "cell_type": "code",
   "execution_count": 9,
   "id": "902fe3bd",
   "metadata": {},
   "outputs": [
    {
     "name": "stdout",
     "output_type": "stream",
     "text": [
      "Sales:  [500, 475, 625]\n",
      "Integers:  [1, 2, 3, 4, 5, 6, 7, 8, 9]\n"
     ]
    }
   ],
   "source": [
    "saleslist = [500, 475, 625]\n",
    "print ('Sales: ',saleslist)\n",
    "#saleslist[0]\n",
    "\n",
    "integerslist = list(range(1,10))\n",
    "print ('Integers: ',integerslist)"
   ]
  },
  {
   "cell_type": "markdown",
   "id": "62e55953",
   "metadata": {},
   "source": [
    "#### 3. Create a variable to store the names and email addresses for a number of customers\n",
    "* John, john@some.com; Ann, ann@some.com"
   ]
  },
  {
   "cell_type": "code",
   "execution_count": 7,
   "id": "606a10b9",
   "metadata": {},
   "outputs": [
    {
     "name": "stdout",
     "output_type": "stream",
     "text": [
      "[{'name': 'John', 'email': 'john@some.com'}, {'name': 'Ann', 'email': 'ann@some.com'}]\n"
     ]
    }
   ],
   "source": [
    "#dictionary\n",
    "customers = [{'name': 'John', 'email': 'john@some.com'}, {'name': 'Ann', 'email': 'ann@some.com'}]\n",
    "customers\n",
    "#customers[0].keys\n",
    "#customers[0].value"
   ]
  },
  {
   "cell_type": "markdown",
   "id": "d6b1e8c6",
   "metadata": {},
   "source": [
    "#### 4. Use Python to generate a random value based on each of following:\n",
    "1. between 0 and 1\n",
    "2. the standard normal distribution (rounded to two decimal places)\n",
    "3. a value between 1 and 10\n",
    "4. either H or T"
   ]
  },
  {
   "cell_type": "code",
   "execution_count": 10,
   "id": "f004d7b5",
   "metadata": {},
   "outputs": [
    {
     "name": "stdout",
     "output_type": "stream",
     "text": [
      "0.12217072964775266\n"
     ]
    }
   ],
   "source": [
    "#between 0 and 1\n",
    "import random\n",
    "randomvalue1 = random.random()\n",
    "print (randomvalue1)"
   ]
  },
  {
   "cell_type": "code",
   "execution_count": 11,
   "id": "a8efc6fc",
   "metadata": {},
   "outputs": [
    {
     "name": "stdout",
     "output_type": "stream",
     "text": [
      "-0.42\n"
     ]
    }
   ],
   "source": [
    "#the standard normal distribution (rounded to two decimal places)\n",
    "randomvalue2 = round(random.gauss(0, 1), 2)\n",
    "print (randomvalue2)"
   ]
  },
  {
   "cell_type": "code",
   "execution_count": 12,
   "id": "1a29e601",
   "metadata": {},
   "outputs": [
    {
     "name": "stdout",
     "output_type": "stream",
     "text": [
      "8\n"
     ]
    }
   ],
   "source": [
    "#a value between 1 and 10\n",
    "randomvalue3 = random.randint(1, 10)\n",
    "print (randomvalue3)"
   ]
  },
  {
   "cell_type": "code",
   "execution_count": 13,
   "id": "3a150c3e",
   "metadata": {},
   "outputs": [
    {
     "name": "stdout",
     "output_type": "stream",
     "text": [
      "T\n"
     ]
    }
   ],
   "source": [
    "#either H or T\n",
    "randomvalue4 = random.choice(['H', 'T'])\n",
    "print (randomvalue4)"
   ]
  },
  {
   "cell_type": "code",
   "execution_count": 18,
   "id": "f0af49dc",
   "metadata": {},
   "outputs": [
    {
     "name": "stdout",
     "output_type": "stream",
     "text": [
      "HHHTTHTHHH\n"
     ]
    },
    {
     "data": {
      "text/plain": [
       "['HHH', '', 'H', 'HHH']"
      ]
     },
     "execution_count": 18,
     "metadata": {},
     "output_type": "execute_result"
    }
   ],
   "source": [
    "#flipping a coin 10 times\n",
    "\n",
    "flips = ''\n",
    "for flip in range(10):\n",
    "    flips += random.choice(['H', 'T']) #concatenation\n",
    "\n",
    "print(flips)\n",
    "\n",
    "#isolate heads/tails\n",
    "flips.split('T')"
   ]
  },
  {
   "cell_type": "markdown",
   "id": "7eddf06a",
   "metadata": {},
   "source": [
    "#### 5. Use Python to determine your current working directory"
   ]
  },
  {
   "cell_type": "code",
   "execution_count": 19,
   "id": "d8f79474",
   "metadata": {},
   "outputs": [
    {
     "name": "stdout",
     "output_type": "stream",
     "text": [
      "/Users/cristiancastilloe/Downloads/OIM7502_Classwork\n"
     ]
    }
   ],
   "source": [
    "import os\n",
    "currentworkingdirectory = os.getcwd()\n",
    "print (currentworkingdirectory)"
   ]
  },
  {
   "cell_type": "code",
   "execution_count": 20,
   "id": "4455c3c7",
   "metadata": {},
   "outputs": [
    {
     "data": {
      "text/plain": [
       "['01-python_concepts.ipynb', '.ipynb_checkpoints']"
      ]
     },
     "execution_count": 20,
     "metadata": {},
     "output_type": "execute_result"
    }
   ],
   "source": [
    "#all the files in a working directery\n",
    "os.listdir()\n",
    "\n",
    "#change directory\n",
    "#os.chdir('..') will change it to one level up\n",
    "#os.mkdir() will make a new directory"
   ]
  },
  {
   "cell_type": "markdown",
   "id": "fc43ec50",
   "metadata": {},
   "source": [
    "#### 6. Use Python to determine how many days until New Year's Day"
   ]
  },
  {
   "cell_type": "code",
   "execution_count": 22,
   "id": "13f630fe",
   "metadata": {},
   "outputs": [
    {
     "name": "stdout",
     "output_type": "stream",
     "text": [
      "349\n"
     ]
    }
   ],
   "source": [
    "from datetime import datetime, timedelta\n",
    "\n",
    "currentdate = datetime.now()\n",
    "\n",
    "newyearsday = datetime(currentdate.year + 1, 1, 1)\n",
    "\n",
    "daysuntilnewyearsday = (newyearsday - currentdate).days\n",
    "\n",
    "print(daysuntilnewyearsday)\n"
   ]
  },
  {
   "cell_type": "code",
   "execution_count": 23,
   "id": "030bfe36",
   "metadata": {},
   "outputs": [
    {
     "data": {
      "text/plain": [
       "datetime.datetime(2024, 1, 17, 17, 50, 54, 995843)"
      ]
     },
     "execution_count": 23,
     "metadata": {},
     "output_type": "execute_result"
    }
   ],
   "source": [
    "#Class Version\n",
    "\n",
    "import datetime as dt\n",
    "#print (dt.date.today())\n",
    "\n",
    "today = dt.date.today()\n",
    "new_year = dt.date(2025,1,1)\n",
    "new_year - today\n",
    "\n",
    "#dt.datetime.now()"
   ]
  },
  {
   "cell_type": "markdown",
   "id": "2ba4ea92",
   "metadata": {},
   "source": [
    "#### 7. Write a short program that displays the future value of 1,000 earning 5%  at the end of each year for the next 5 years"
   ]
  },
  {
   "cell_type": "code",
   "execution_count": 30,
   "id": "6fef4a8c",
   "metadata": {},
   "outputs": [
    {
     "name": "stdout",
     "output_type": "stream",
     "text": [
      "Year                Value\n",
      "-------------------------\n",
      "1              1,050.00\n",
      "2              1,102.50\n",
      "3              1,157.63\n",
      "4              1,215.51\n",
      "5              1,276.28\n"
     ]
    }
   ],
   "source": [
    "investment = 1000\n",
    "rate = 0.05\n",
    "years = 5\n",
    "\n",
    "print(f\"{'Year': <15}{'Value': >10}\")\n",
    "print (\"-\" * 25)\n",
    "\n",
    "for year in range (1, years + 1):\n",
    "    print(f\"{year:<15d}{investment * (1+rate) **year:>,.2f}\")"
   ]
  },
  {
   "cell_type": "markdown",
   "id": "150201c8",
   "metadata": {},
   "source": [
    "#### 8. Write a short program that prompts a user to enter a stock symbol and press enter. Add each symbol entered to a variable. The program should run until the user presses the enter key without entering anything (empty string) "
   ]
  },
  {
   "cell_type": "code",
   "execution_count": null,
   "id": "abdff589",
   "metadata": {},
   "outputs": [],
   "source": [
    "stock_symbols = []\n",
    "\n",
    "while True:\n",
    "    symbol = input(\"Enter a stock symbol (or press Enter to finish): \")\n",
    "\n",
    "    if symbol:\n",
    "        stock_symbols.append(symbol)\n",
    "    else:\n",
    "        break\n",
    "        \n",
    "print(\"Stock symbols entered:\", stock_symbols)"
   ]
  },
  {
   "cell_type": "code",
   "execution_count": null,
   "id": "51228315",
   "metadata": {},
   "outputs": [],
   "source": [
    "#Class Version\n",
    "stocks = []\n",
    "\n",
    "while True:\n",
    "    symbol = input(\"Enter a stock symbol (or press Enter to finish): \") #listener\n",
    "    if symbol == '':\n",
    "        break\n",
    "    stocks.append(symbol)\n",
    "\n",
    "print (stocks)"
   ]
  },
  {
   "cell_type": "markdown",
   "id": "fc2a7592",
   "metadata": {},
   "source": [
    "#### 9. Write the code necessary to calculate the sum of the square differences of a group of values : \n",
    "58, 32, 37, 41, 36, 36, 54, 37, 25, 53\n",
    "##### $\\Sigma $(${x}$ - $\\bar{x}$)$^2$"
   ]
  },
  {
   "cell_type": "code",
   "execution_count": null,
   "id": "8148095f",
   "metadata": {},
   "outputs": [],
   "source": [
    "values2 = [58, 32, 37, 41, 36, 36, 54, 37, 25, 53]\n",
    "\n",
    "avg = sum(values2) / len(values2)\n",
    "\n",
    "sum_square_diff = sum((value - avg)**2 for value in values2)\n",
    "\n",
    "print(round(sum_square_diff))"
   ]
  },
  {
   "cell_type": "markdown",
   "id": "6d6f2e64",
   "metadata": {},
   "source": [
    "#### 10. Opening, reading and writing files"
   ]
  },
  {
   "cell_type": "code",
   "execution_count": null,
   "id": "f7fa569d",
   "metadata": {},
   "outputs": [],
   "source": []
  },
  {
   "cell_type": "markdown",
   "id": "eec548d6",
   "metadata": {},
   "source": [
    "#### 11. Create a function the will simulate rolling two die and return the value of each and and the sum "
   ]
  },
  {
   "cell_type": "code",
   "execution_count": null,
   "id": "bb115cdc",
   "metadata": {},
   "outputs": [],
   "source": [
    "def diceroll():\n",
    "\n",
    "    die1 = random.randint(1, 6)\n",
    "    die2 = random.randint(1, 6)\n",
    "\n",
    "    total = die1 + die2\n",
    "\n",
    "    return die1, die2, total\n",
    "\n",
    "result = diceroll()\n",
    "\n",
    "print(f\"Die 1: {result[0]}, Die 2: {result[1]}, Total: {result[2]}\")"
   ]
  },
  {
   "cell_type": "markdown",
   "id": "21556d7f",
   "metadata": {},
   "source": [
    "#### 12. Write the code needed to evaluate whether a value in a group of values is negative or postive and prints an approriate message, i.e. postive, negative \n",
    "-1.59, 2.36, 1.69, 1.13, -0.91, 1.48, -0.34, 1.31, -0.74, 0.2"
   ]
  },
  {
   "cell_type": "code",
   "execution_count": null,
   "id": "aaefba17",
   "metadata": {},
   "outputs": [],
   "source": [
    "values = [-1.59, 2.36, 1.69, 1.13, -0.91, 1.48, -0.34, 1.31, -0.74, 0.2]\n",
    "\n",
    "for value in values:\n",
    "    if value >= 0:\n",
    "        print(f\"{value} is positive.\")   \n",
    "    else:\n",
    "        print(f\"{value} is negative.\")"
   ]
  },
  {
   "cell_type": "markdown",
   "id": "8cafe65c",
   "metadata": {},
   "source": [
    "#### 14.  Complete the following:\n",
    "1. Write a program that generates 500 random integers from 1 to n, for example, the first integer will be 1 the second will be 1 or 2, the fifth between 1 and 5, and so on.\n",
    "2. The program should write each integer to a file \n",
    "3. Once all integers are written close the file\n",
    "\n",
    "##### Part 2\n",
    "1. Open and read the file into a list\n",
    "2. Create a line plot of the data"
   ]
  },
  {
   "cell_type": "code",
   "execution_count": null,
   "id": "60a910bb",
   "metadata": {},
   "outputs": [],
   "source": [
    "randomvaluen = random.randint(1, n)\n",
    "print (randomvaluen)"
   ]
  },
  {
   "cell_type": "code",
   "execution_count": null,
   "id": "d6b4180c",
   "metadata": {},
   "outputs": [],
   "source": [
    "#lalalalala"
   ]
  },
  {
   "cell_type": "code",
   "execution_count": null,
   "id": "adb6aa11",
   "metadata": {},
   "outputs": [],
   "source": []
  },
  {
   "cell_type": "code",
   "execution_count": null,
   "id": "6745da79",
   "metadata": {},
   "outputs": [],
   "source": []
  },
  {
   "cell_type": "code",
   "execution_count": null,
   "id": "21140445",
   "metadata": {},
   "outputs": [],
   "source": []
  },
  {
   "cell_type": "code",
   "execution_count": null,
   "id": "3d546600",
   "metadata": {},
   "outputs": [],
   "source": []
  }
 ],
 "metadata": {
  "kernelspec": {
   "display_name": "Python 3 (ipykernel)",
   "language": "python",
   "name": "python3"
  },
  "language_info": {
   "codemirror_mode": {
    "name": "ipython",
    "version": 3
   },
   "file_extension": ".py",
   "mimetype": "text/x-python",
   "name": "python",
   "nbconvert_exporter": "python",
   "pygments_lexer": "ipython3",
   "version": "3.11.5"
  }
 },
 "nbformat": 4,
 "nbformat_minor": 5
}
