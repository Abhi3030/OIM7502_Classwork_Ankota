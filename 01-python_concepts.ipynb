{
 "cells": [
  {
   "cell_type": "markdown",
   "id": "9383bafa",
   "metadata": {},
   "source": [
    "### Python Programming Concepts"
   ]
  },
  {
   "cell_type": "markdown",
   "id": "17df7d6e",
   "metadata": {},
   "source": [
    "#### 1. Create a variable to store the value 500 for sales"
   ]
  },
  {
   "cell_type": "code",
   "execution_count": 1,
   "id": "a5f43c2f",
   "metadata": {},
   "outputs": [
    {
     "name": "stdout",
     "output_type": "stream",
     "text": [
      "Sales: 500\n"
     ]
    }
   ],
   "source": [
    "sales = 500\n",
    "print ('Sales:',sales)"
   ]
  },
  {
   "cell_type": "markdown",
   "id": "6dc8b9ea",
   "metadata": {},
   "source": [
    "#### 2. Create a variable to store several values:  \n",
    "* sales: 500, 475, 625\n",
    "* integers 1 - 9 "
   ]
  },
  {
   "cell_type": "code",
   "execution_count": 2,
   "id": "902fe3bd",
   "metadata": {},
   "outputs": [
    {
     "name": "stdout",
     "output_type": "stream",
     "text": [
      "Sales:  [500, 475, 625]\n",
      "Integers:  [1, 2, 3, 4, 5, 6, 7, 8, 9]\n"
     ]
    }
   ],
   "source": [
    "saleslist = [500, 475, 625]\n",
    "print ('Sales: ',saleslist)\n",
    "#saleslist[0]\n",
    "\n",
    "integerslist = list(range(1,10))\n",
    "print ('Integers: ',integerslist)"
   ]
  },
  {
   "cell_type": "markdown",
   "id": "62e55953",
   "metadata": {},
   "source": [
    "#### 3. Create a variable to store the names and email addresses for a number of customers\n",
    "* John, john@some.com; Ann, ann@some.com"
   ]
  },
  {
   "cell_type": "code",
   "execution_count": 3,
   "id": "606a10b9",
   "metadata": {},
   "outputs": [
    {
     "data": {
      "text/plain": [
       "[{'name': 'John', 'email': 'john@some.com'},\n",
       " {'name': 'Ann', 'email': 'ann@some.com'}]"
      ]
     },
     "execution_count": 3,
     "metadata": {},
     "output_type": "execute_result"
    }
   ],
   "source": [
    "#dictionary\n",
    "customers = [{'name': 'John', 'email': 'john@some.com'}, {'name': 'Ann', 'email': 'ann@some.com'}]\n",
    "customers\n",
    "#customers[0].keys\n",
    "#customers[0].value"
   ]
  },
  {
   "cell_type": "markdown",
   "id": "d6b1e8c6",
   "metadata": {},
   "source": [
    "#### 4. Use Python to generate a random value based on each of following:\n",
    "1. between 0 and 1\n",
    "2. the standard normal distribution (rounded to two decimal places)\n",
    "3. a value between 1 and 10\n",
    "4. either H or T"
   ]
  },
  {
   "cell_type": "code",
   "execution_count": 4,
   "id": "f004d7b5",
   "metadata": {},
   "outputs": [
    {
     "name": "stdout",
     "output_type": "stream",
     "text": [
      "0.8650924528392059\n"
     ]
    }
   ],
   "source": [
    "#between 0 and 1\n",
    "import random\n",
    "randomvalue1 = random.random()\n",
    "print (randomvalue1)"
   ]
  },
  {
   "cell_type": "code",
   "execution_count": 5,
   "id": "a8efc6fc",
   "metadata": {},
   "outputs": [
    {
     "name": "stdout",
     "output_type": "stream",
     "text": [
      "-0.56\n"
     ]
    }
   ],
   "source": [
    "#the standard normal distribution (rounded to two decimal places)\n",
    "randomvalue2 = round(random.gauss(0, 1), 2)\n",
    "print (randomvalue2)"
   ]
  },
  {
   "cell_type": "code",
   "execution_count": 6,
   "id": "1a29e601",
   "metadata": {},
   "outputs": [
    {
     "name": "stdout",
     "output_type": "stream",
     "text": [
      "5\n"
     ]
    }
   ],
   "source": [
    "#a value between 1 and 10\n",
    "randomvalue3 = random.randint(1, 10)\n",
    "print (randomvalue3)"
   ]
  },
  {
   "cell_type": "code",
   "execution_count": 7,
   "id": "3a150c3e",
   "metadata": {},
   "outputs": [
    {
     "name": "stdout",
     "output_type": "stream",
     "text": [
      "H\n"
     ]
    }
   ],
   "source": [
    "#either H or T\n",
    "randomvalue4 = random.choice(['H', 'T'])\n",
    "print (randomvalue4)"
   ]
  },
  {
   "cell_type": "code",
   "execution_count": 8,
   "id": "f0af49dc",
   "metadata": {},
   "outputs": [
    {
     "name": "stdout",
     "output_type": "stream",
     "text": [
      "THHHHTTHHH\n"
     ]
    },
    {
     "data": {
      "text/plain": [
       "['', 'HHHH', '', 'HHH']"
      ]
     },
     "execution_count": 8,
     "metadata": {},
     "output_type": "execute_result"
    }
   ],
   "source": [
    "#flipping a coin 10 times\n",
    "\n",
    "flips = ''\n",
    "for flip in range(10):\n",
    "    flips += random.choice(['H', 'T']) #concatenation\n",
    "\n",
    "print(flips)\n",
    "\n",
    "#isolate heads/tails\n",
    "flips.split('T')"
   ]
  },
  {
   "cell_type": "markdown",
   "id": "7eddf06a",
   "metadata": {},
   "source": [
    "#### 5. Use Python to determine your current working directory"
   ]
  },
  {
   "cell_type": "code",
   "execution_count": 9,
   "id": "d8f79474",
   "metadata": {},
   "outputs": [
    {
     "name": "stdout",
     "output_type": "stream",
     "text": [
      "/Users/cristiancastilloe/Downloads/OIM7502_Classwork\n"
     ]
    }
   ],
   "source": [
    "import os\n",
    "currentworkingdirectory = os.getcwd()\n",
    "print (currentworkingdirectory)"
   ]
  },
  {
   "cell_type": "code",
   "execution_count": 10,
   "id": "4455c3c7",
   "metadata": {},
   "outputs": [
    {
     "data": {
      "text/plain": [
       "['RandomIntegerGenerator',\n",
       " '.DS_Store',\n",
       " '01-python_concepts.ipynb',\n",
       " 'README.md',\n",
       " 'desolation_row.txt',\n",
       " '.ipynb_checkpoints',\n",
       " '.git']"
      ]
     },
     "execution_count": 10,
     "metadata": {},
     "output_type": "execute_result"
    }
   ],
   "source": [
    "#all the files in a working directery\n",
    "os.listdir()\n",
    "\n",
    "#change directory\n",
    "#os.chdir('..') will change it to one level up\n",
    "#os.mkdir() will make a new directory"
   ]
  },
  {
   "cell_type": "markdown",
   "id": "fc43ec50",
   "metadata": {},
   "source": [
    "#### 6. Use Python to determine how many days until New Year's Day"
   ]
  },
  {
   "cell_type": "code",
   "execution_count": 11,
   "id": "13f630fe",
   "metadata": {},
   "outputs": [
    {
     "name": "stdout",
     "output_type": "stream",
     "text": [
      "342\n"
     ]
    }
   ],
   "source": [
    "from datetime import datetime, timedelta\n",
    "\n",
    "currentdate = datetime.now()\n",
    "\n",
    "newyearsday = datetime(currentdate.year + 1, 1, 1)\n",
    "\n",
    "daysuntilnewyearsday = (newyearsday - currentdate).days\n",
    "\n",
    "print(daysuntilnewyearsday)\n"
   ]
  },
  {
   "cell_type": "code",
   "execution_count": 12,
   "id": "030bfe36",
   "metadata": {},
   "outputs": [
    {
     "data": {
      "text/plain": [
       "datetime.timedelta(days=343)"
      ]
     },
     "execution_count": 12,
     "metadata": {},
     "output_type": "execute_result"
    }
   ],
   "source": [
    "#Class Version\n",
    "\n",
    "import datetime as dt\n",
    "#print (dt.date.today())\n",
    "\n",
    "today = dt.date.today()\n",
    "new_year = dt.date(2025,1,1)\n",
    "new_year - today\n",
    "\n",
    "#dt.datetime.now()"
   ]
  },
  {
   "cell_type": "markdown",
   "id": "2ba4ea92",
   "metadata": {},
   "source": [
    "#### 7. Write a short program that displays the future value of 1,000 earning 5%  at the end of each year for the next 5 years"
   ]
  },
  {
   "cell_type": "code",
   "execution_count": 13,
   "id": "6fef4a8c",
   "metadata": {},
   "outputs": [
    {
     "name": "stdout",
     "output_type": "stream",
     "text": [
      "Year                Value\n",
      "-------------------------\n",
      "1              1,050.00\n",
      "2              1,102.50\n",
      "3              1,157.63\n",
      "4              1,215.51\n",
      "5              1,276.28\n"
     ]
    }
   ],
   "source": [
    "investment = 1000\n",
    "rate = 0.05\n",
    "years = 5\n",
    "\n",
    "print(f\"{'Year': <15}{'Value': >10}\")\n",
    "print (\"-\" * 25)\n",
    "\n",
    "for year in range (1, years + 1):\n",
    "    print(f\"{year:<15d}{investment * (1+rate) **year:>,.2f}\")"
   ]
  },
  {
   "cell_type": "markdown",
   "id": "150201c8",
   "metadata": {},
   "source": [
    "#### 8. Write a short program that prompts a user to enter a stock symbol and press enter. Add each symbol entered to a variable. The program should run until the user presses the enter key without entering anything (empty string) "
   ]
  },
  {
   "cell_type": "code",
   "execution_count": 14,
   "id": "abdff589",
   "metadata": {},
   "outputs": [
    {
     "name": "stdout",
     "output_type": "stream",
     "text": [
      "Enter a stock symbol (or press Enter to finish): ABC\n",
      "Enter a stock symbol (or press Enter to finish): CDE\n",
      "Enter a stock symbol (or press Enter to finish): \n",
      "Stock symbols entered: ['ABC', 'CDE']\n"
     ]
    }
   ],
   "source": [
    "stock_symbols = []\n",
    "\n",
    "while True:\n",
    "    symbol = input(\"Enter a stock symbol (or press Enter to finish): \")\n",
    "\n",
    "    if symbol:\n",
    "        stock_symbols.append(symbol)\n",
    "    else:\n",
    "        break\n",
    "        \n",
    "print(\"Stock symbols entered:\", stock_symbols)"
   ]
  },
  {
   "cell_type": "code",
   "execution_count": null,
   "id": "51228315",
   "metadata": {},
   "outputs": [],
   "source": [
    "#Class Version\n",
    "stocks = []\n",
    "\n",
    "while True:\n",
    "    symbol = input(\"Enter a stock symbol (or press Enter to finish): \") #listener\n",
    "    if symbol == '':\n",
    "        break\n",
    "    stocks.append(symbol)\n",
    "\n",
    "print (stocks)"
   ]
  },
  {
   "cell_type": "markdown",
   "id": "fc2a7592",
   "metadata": {},
   "source": [
    "#### 9. Write the code necessary to calculate the sum of the square differences of a group of values : \n",
    "58, 32, 37, 41, 36, 36, 54, 37, 25, 53\n",
    "##### $\\Sigma $(${x}$ - $\\bar{x}$)$^2$"
   ]
  },
  {
   "cell_type": "code",
   "execution_count": 15,
   "id": "8148095f",
   "metadata": {},
   "outputs": [
    {
     "name": "stdout",
     "output_type": "stream",
     "text": [
      "1021\n"
     ]
    }
   ],
   "source": [
    "values2 = [58, 32, 37, 41, 36, 36, 54, 37, 25, 53]\n",
    "\n",
    "avg = sum(values2) / len(values2)\n",
    "\n",
    "sum_square_diff = sum((value - avg)**2 for value in values2)\n",
    "\n",
    "print(round(sum_square_diff))"
   ]
  },
  {
   "cell_type": "markdown",
   "id": "6d6f2e64",
   "metadata": {},
   "source": [
    "#### 10. Opening, reading and writing files"
   ]
  },
  {
   "cell_type": "code",
   "execution_count": 16,
   "id": "f7fa569d",
   "metadata": {},
   "outputs": [],
   "source": [
    "with open('/Users/cristiancastilloe/Downloads/OIM7502_SP24/data/desolation_row.txt', 'w') as file:\n",
    "        file.write(\"Test text\")\n"
   ]
  },
  {
   "cell_type": "markdown",
   "id": "eec548d6",
   "metadata": {},
   "source": [
    "#### 11. Create a function the will simulate rolling two die and return the value of each and and the sum "
   ]
  },
  {
   "cell_type": "code",
   "execution_count": 17,
   "id": "bb115cdc",
   "metadata": {},
   "outputs": [
    {
     "name": "stdout",
     "output_type": "stream",
     "text": [
      "Die 1: 6, Die 2: 2, Total: 8\n"
     ]
    }
   ],
   "source": [
    "def diceroll():\n",
    "\n",
    "    die1 = random.randint(1, 6)\n",
    "    die2 = random.randint(1, 6)\n",
    "\n",
    "    total = die1 + die2\n",
    "\n",
    "    return die1, die2, total\n",
    "\n",
    "result = diceroll()\n",
    "\n",
    "print(f\"Die 1: {result[0]}, Die 2: {result[1]}, Total: {result[2]}\")"
   ]
  },
  {
   "cell_type": "markdown",
   "id": "21556d7f",
   "metadata": {},
   "source": [
    "#### 12. Write the code needed to evaluate whether a value in a group of values is negative or postive and prints an approriate message, i.e. postive, negative \n",
    "-1.59, 2.36, 1.69, 1.13, -0.91, 1.48, -0.34, 1.31, -0.74, 0.2"
   ]
  },
  {
   "cell_type": "code",
   "execution_count": 18,
   "id": "aaefba17",
   "metadata": {},
   "outputs": [
    {
     "name": "stdout",
     "output_type": "stream",
     "text": [
      "-1.59 is negative.\n",
      "2.36 is positive.\n",
      "1.69 is positive.\n",
      "1.13 is positive.\n",
      "-0.91 is negative.\n",
      "1.48 is positive.\n",
      "-0.34 is negative.\n",
      "1.31 is positive.\n",
      "-0.74 is negative.\n",
      "0.2 is positive.\n"
     ]
    }
   ],
   "source": [
    "values = [-1.59, 2.36, 1.69, 1.13, -0.91, 1.48, -0.34, 1.31, -0.74, 0.2]\n",
    "\n",
    "for value in values:\n",
    "    if value >= 0:\n",
    "        print(f\"{value} is positive.\")   \n",
    "    else:\n",
    "        print(f\"{value} is negative.\")"
   ]
  },
  {
   "cell_type": "markdown",
   "id": "8cafe65c",
   "metadata": {},
   "source": [
    "#### 14.  Complete the following:\n",
    "1. Write a program that generates 500 random integers from 1 to n, for example, the first integer will be 1 the second will be 1 or 2, the fifth between 1 and 5, and so on.\n",
    "2. The program should write each integer to a file \n",
    "3. Once all integers are written close the file\n",
    "\n",
    "##### Part 2\n",
    "1. Open and read the file into a list\n",
    "2. Create a line plot of the data"
   ]
  },
  {
   "cell_type": "code",
   "execution_count": 20,
   "id": "d6b4180c",
   "metadata": {},
   "outputs": [
    {
     "name": "stdout",
     "output_type": "stream",
     "text": [
      "[1, 1, 3, 2, 5, 2, 4, 6, 1, 5, 6, 6, 11, 13, 5, 8, 6, 11, 11, 4, 9, 4, 15, 23, 4, 24, 27, 8, 4, 2, 21, 1, 21, 34, 28, 29, 5, 1, 14, 38, 22, 32, 37, 20, 32, 37, 33, 41, 11, 42, 8, 13, 47, 33, 13, 25, 31, 38, 52, 31, 22, 9, 5, 22, 37, 17, 2, 61, 21, 29, 9, 61, 39, 4, 46, 66, 33, 12, 75, 17, 64, 60, 75, 73, 22, 62, 59, 20, 80, 55, 81, 3, 27, 21, 26, 49, 77, 55, 70, 59, 27, 7, 57, 16, 34, 78, 2, 81, 69, 10, 109, 94, 62, 94, 10, 19, 102, 21, 76, 64, 13, 104, 53, 118, 88, 106, 58, 123, 53, 71, 79, 6, 129, 127, 93, 55, 102, 90, 44, 72, 97, 121, 31, 82, 145, 93, 121, 129, 96, 40, 131, 35, 31, 89, 4, 48, 92, 25, 52, 11, 58, 3, 86, 100, 96, 105, 149, 55, 6, 98, 78, 90, 169, 117, 36, 117, 149, 118, 3, 139, 87, 110, 176, 89, 183, 97, 137, 146, 163, 14, 156, 156, 161, 116, 150, 181, 23, 89, 2, 122, 199, 89, 20, 63, 81, 143, 76, 4, 83, 17, 33, 32, 117, 175, 160, 15, 208, 132, 211, 25, 153, 222, 36, 45, 219, 66, 165, 108, 228, 96, 18, 188, 135, 64, 155, 128, 4, 133, 38, 147, 87, 120, 138, 11, 175, 225, 48, 203, 202, 21, 51, 234, 58, 101, 23, 184, 113, 4, 227, 254, 111, 180, 174, 112, 128, 258, 39, 165, 192, 234, 168, 75, 4, 260, 127, 153, 159, 44, 245, 218, 102, 167, 49, 144, 105, 121, 6, 155, 281, 17, 259, 15, 167, 196, 259, 50, 175, 236, 7, 75, 243, 117, 130, 98, 245, 90, 121, 54, 170, 240, 283, 173, 72, 242, 197, 10, 194, 148, 153, 17, 242, 270, 153, 173, 60, 206, 259, 110, 327, 322, 225, 327, 51, 316, 249, 214, 281, 59, 260, 183, 122, 19, 7, 133, 127, 155, 305, 306, 29, 110, 105, 288, 295, 317, 181, 185, 147, 298, 32, 313, 147, 213, 48, 359, 119, 196, 111, 92, 223, 313, 138, 88, 157, 57, 324, 330, 196, 201, 197, 301, 263, 291, 333, 383, 13, 252, 370, 43, 320, 246, 97, 189, 73, 172, 100, 82, 341, 15, 310, 210, 327, 306, 269, 264, 77, 58, 183, 90, 260, 319, 121, 187, 300, 237, 414, 258, 37, 259, 8, 187, 294, 150, 385, 34, 348, 403, 31, 306, 106, 165, 317, 245, 380, 327, 38, 78, 247, 383, 210, 50, 434, 15, 440, 121, 337, 205, 338, 41, 257, 145, 171, 185, 196, 37, 17, 395, 413, 149, 117, 23, 440, 256, 128, 123, 139, 135, 90, 262, 411, 384, 315, 262, 259, 229, 286, 25, 201, 12, 39, 342, 123, 193, 358, 95, 428, 106, 458, 435, 371, 273, 305, 376, 56, 422, 196, 359, 475, 392, 398, 17]\n"
     ]
    }
   ],
   "source": [
    "def random_integers_generator(n):\n",
    "    random_integers = [random.randint(1, min(i, n)) for i in range(1, 501)]\n",
    "    return random_integers\n",
    "\n",
    "n = 500\n",
    "\n",
    "random_integers = random_integers_generator(n)\n",
    "\n",
    "print(random_integers)\n"
   ]
  }
 ],
 "metadata": {
  "kernelspec": {
   "display_name": "Python 3 (ipykernel)",
   "language": "python",
   "name": "python3"
  },
  "language_info": {
   "codemirror_mode": {
    "name": "ipython",
    "version": 3
   },
   "file_extension": ".py",
   "mimetype": "text/x-python",
   "name": "python",
   "nbconvert_exporter": "python",
   "pygments_lexer": "ipython3",
   "version": "3.11.5"
  }
 },
 "nbformat": 4,
 "nbformat_minor": 5
}
