{
 "cells": [
  {
   "cell_type": "markdown",
   "id": "8feafce0",
   "metadata": {},
   "source": [
    "# Bokeh Tutorial\n",
    "\n",
    "This Bokeh Tutorial provides the user a basic introduction on how to use this powerful library to create interactive visualizations in Python using Jupyter Notebook."
   ]
  },
  {
   "cell_type": "markdown",
   "id": "061df7bc",
   "metadata": {},
   "source": [
    "### Introduction"
   ]
  },
  {
   "cell_type": "markdown",
   "id": "b449e9c6",
   "metadata": {},
   "source": [
    "Bokeh is an open-source Python library widely utilized for crafting interactive visualizations for web browsers. Distinguishing itself from other libraries with similar capabilities, Bokeh offers highly customizable visualizations, enriching the aesthetic quality of data exploration, analysis, and insight communication.\n",
    "\n",
    "Moreover, it seamlessly integrates into the Python ecosystem and can be employed in Jupyter notebooks without requiring any additional setup."
   ]
  },
  {
   "cell_type": "markdown",
   "id": "ac08539e",
   "metadata": {},
   "source": [
    "### Installation"
   ]
  },
  {
   "cell_type": "markdown",
   "id": "aa93e5b8",
   "metadata": {},
   "source": [
    "To start using Bokeh, pip install and import using:"
   ]
  },
  {
   "cell_type": "markdown",
   "id": "3c090c15",
   "metadata": {},
   "source": [
    "`pip install bokeh`"
   ]
  },
  {
   "cell_type": "markdown",
   "id": "6784e53c",
   "metadata": {},
   "source": [
    "`import bokeh`"
   ]
  },
  {
   "cell_type": "markdown",
   "id": "0be4a089",
   "metadata": {},
   "source": [
    "To know what version of Bokeh you are currently using:"
   ]
  },
  {
   "cell_type": "markdown",
   "id": "c6d59fb9",
   "metadata": {},
   "source": [
    "`bokeh.__version__`"
   ]
  },
  {
   "cell_type": "markdown",
   "id": "62429e80",
   "metadata": {},
   "source": [
    "### Getting Started"
   ]
  },
  {
   "cell_type": "markdown",
   "id": "5a35ae95",
   "metadata": {},
   "source": [
    "To facilitate learning and testing, Bokeh provides sample datasets that users can download and use in their projects."
   ]
  },
  {
   "cell_type": "markdown",
   "id": "8b99ad10",
   "metadata": {},
   "source": [
    "`import bokeh.sampledata`\n",
    "\n",
    "`bokeh.sampledata.download()`"
   ]
  },
  {
   "cell_type": "markdown",
   "id": "fbe84676",
   "metadata": {},
   "source": [
    "In order to create interactive visualizations in Python, Bokeh provides users with several interfaces. The most used are:"
   ]
  },
  {
   "cell_type": "markdown",
   "id": "0621d48f",
   "metadata": {},
   "source": [
    "`bokeh.plotting`:\n",
    "\n",
    "This interface is used to create a blank canvas for visualizations. Users can add different types of glyphs (such as lines, circles, bars, etc.) to the figure to represent their data."
   ]
  },
  {
   "cell_type": "markdown",
   "id": "35ebe161",
   "metadata": {},
   "source": [
    "`bokeh.models`:\n",
    "\n",
    "This interface provides building blocks that represent various components that make up a Bokeh plot or application. Among Bokeh's models, we can find interactive tools such as zooming, panning, selecting, and hovering, as well as widgets like sliders, buttons, dropdowns, and text inputs."
   ]
  },
  {
   "cell_type": "markdown",
   "id": "c8e4f05e",
   "metadata": {},
   "source": [
    "`bokeh.layouts`:\n",
    "\n",
    "This interface allows users to create layouts that contain multiple plots, arrange them in rows or columns, and add spacing or other formatting as needed."
   ]
  },
  {
   "cell_type": "markdown",
   "id": "ef53a5a9",
   "metadata": {},
   "source": [
    "`bokeh.io`:\n",
    "\n",
    "Bokeh's input-output (I/O) interface provides functions for displaying visualizations in various environments, including Jupyter notebooks, standalone HTML files, or Bokeh server applications."
   ]
  },
  {
   "cell_type": "markdown",
   "id": "b962c277",
   "metadata": {},
   "source": [
    "Using Bokeh, users can create:\n",
    "    \n",
    "- Scatter plots with hover tooltips.\n",
    "- Line charts with zoom and pan tools.\n",
    "- Bar charts with selection and tap tools.\n",
    "- Interactive maps with geographic data."
   ]
  },
  {
   "cell_type": "markdown",
   "id": "3fa5a514",
   "metadata": {},
   "source": [
    "### Useful Resources\n",
    "- [Bokeh Documentation](https://docs.bokeh.org/en/latest/index.html): Directory to all type of resources related to Bokeh.\n",
    "- [Bokeh First Steps](https://docs.bokeh.org/en/latest/docs/first_steps.html): Start to work using Bokeh.\n",
    "- [Bokeh Gallery](https://docs.bokeh.org/en/latest/docs/gallery.html): Collection of sample visualizations created using Bokeh.\n",
    "- [Bokeh In-Depth Tutoria](https://mybinder.org/v2/gh/bokeh/tutorial/main?filepath=notebooks%2F01_introduction.ipynb): Detailed tutorial on utilizing Bokeh's interfaces effectively.\n",
    "- [Bokeh Discourse](https://discourse.bokeh.org/): Discussion forum for Bokeh users and developers."
   ]
  }
 ],
 "metadata": {
  "kernelspec": {
   "display_name": "Python 3 (ipykernel)",
   "language": "python",
   "name": "python3"
  },
  "language_info": {
   "codemirror_mode": {
    "name": "ipython",
    "version": 3
   },
   "file_extension": ".py",
   "mimetype": "text/x-python",
   "name": "python",
   "nbconvert_exporter": "python",
   "pygments_lexer": "ipython3",
   "version": "3.11.5"
  }
 },
 "nbformat": 4,
 "nbformat_minor": 5
}
